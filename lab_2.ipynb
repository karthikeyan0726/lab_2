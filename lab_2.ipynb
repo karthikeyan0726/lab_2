{
  "nbformat": 4,
  "nbformat_minor": 0,
  "metadata": {
    "colab": {
      "provenance": []
    },
    "kernelspec": {
      "name": "python3",
      "display_name": "Python 3"
    },
    "language_info": {
      "name": "python"
    }
  },
  "cells": [
    {
      "cell_type": "code",
      "execution_count": null,
      "metadata": {
        "id": "knuBU3Vhin6n"
      },
      "outputs": [],
      "source": [
        "import pandas as pd\n",
        "import numpy as np\n",
        "import matplotlib.pyplot as plt\n",
        "from sklearn.preprocessing import LabelEncoder"
      ]
    },
    {
      "cell_type": "code",
      "source": [
        "df=pd.read_csv('/content/customer_shopping_data.csv' )\n",
        "df.head()"
      ],
      "metadata": {
        "colab": {
          "base_uri": "https://localhost:8080/",
          "height": 206
        },
        "id": "BhpDC4PQjnpR",
        "outputId": "aa7bffc4-1775-4a5e-e3da-b2b3ba7d7de9"
      },
      "execution_count": null,
      "outputs": [
        {
          "output_type": "execute_result",
          "data": {
            "text/plain": [
              "  invoice_no customer_id  gender  age  category  quantity    price  \\\n",
              "0    I138884     C241288  Female   28  Clothing       5.0  1500.40   \n",
              "1    I317333     C111565    Male   21     Shoes       3.0  1800.51   \n",
              "2    I127801     C266599    Male   20  Clothing       1.0   300.08   \n",
              "3    I173702     C988172  Female   66     Shoes       5.0  3000.85   \n",
              "4    I337046     C189076  Female   53     Books       4.0    60.60   \n",
              "\n",
              "  payment_method invoice_date   shopping_mall  \n",
              "0    Credit Card     5/8/2022          Kanyon  \n",
              "1     Debit Card   12/12/2021  Forum Istanbul  \n",
              "2           Cash    9/11/2021       Metrocity  \n",
              "3    Credit Card   16/05/2021    Metropol AVM  \n",
              "4           Cash   24/10/2021          Kanyon  "
            ],
            "text/html": [
              "\n",
              "  <div id=\"df-0219f102-a295-46e3-8939-d2ab3f77dc36\" class=\"colab-df-container\">\n",
              "    <div>\n",
              "<style scoped>\n",
              "    .dataframe tbody tr th:only-of-type {\n",
              "        vertical-align: middle;\n",
              "    }\n",
              "\n",
              "    .dataframe tbody tr th {\n",
              "        vertical-align: top;\n",
              "    }\n",
              "\n",
              "    .dataframe thead th {\n",
              "        text-align: right;\n",
              "    }\n",
              "</style>\n",
              "<table border=\"1\" class=\"dataframe\">\n",
              "  <thead>\n",
              "    <tr style=\"text-align: right;\">\n",
              "      <th></th>\n",
              "      <th>invoice_no</th>\n",
              "      <th>customer_id</th>\n",
              "      <th>gender</th>\n",
              "      <th>age</th>\n",
              "      <th>category</th>\n",
              "      <th>quantity</th>\n",
              "      <th>price</th>\n",
              "      <th>payment_method</th>\n",
              "      <th>invoice_date</th>\n",
              "      <th>shopping_mall</th>\n",
              "    </tr>\n",
              "  </thead>\n",
              "  <tbody>\n",
              "    <tr>\n",
              "      <th>0</th>\n",
              "      <td>I138884</td>\n",
              "      <td>C241288</td>\n",
              "      <td>Female</td>\n",
              "      <td>28</td>\n",
              "      <td>Clothing</td>\n",
              "      <td>5.0</td>\n",
              "      <td>1500.40</td>\n",
              "      <td>Credit Card</td>\n",
              "      <td>5/8/2022</td>\n",
              "      <td>Kanyon</td>\n",
              "    </tr>\n",
              "    <tr>\n",
              "      <th>1</th>\n",
              "      <td>I317333</td>\n",
              "      <td>C111565</td>\n",
              "      <td>Male</td>\n",
              "      <td>21</td>\n",
              "      <td>Shoes</td>\n",
              "      <td>3.0</td>\n",
              "      <td>1800.51</td>\n",
              "      <td>Debit Card</td>\n",
              "      <td>12/12/2021</td>\n",
              "      <td>Forum Istanbul</td>\n",
              "    </tr>\n",
              "    <tr>\n",
              "      <th>2</th>\n",
              "      <td>I127801</td>\n",
              "      <td>C266599</td>\n",
              "      <td>Male</td>\n",
              "      <td>20</td>\n",
              "      <td>Clothing</td>\n",
              "      <td>1.0</td>\n",
              "      <td>300.08</td>\n",
              "      <td>Cash</td>\n",
              "      <td>9/11/2021</td>\n",
              "      <td>Metrocity</td>\n",
              "    </tr>\n",
              "    <tr>\n",
              "      <th>3</th>\n",
              "      <td>I173702</td>\n",
              "      <td>C988172</td>\n",
              "      <td>Female</td>\n",
              "      <td>66</td>\n",
              "      <td>Shoes</td>\n",
              "      <td>5.0</td>\n",
              "      <td>3000.85</td>\n",
              "      <td>Credit Card</td>\n",
              "      <td>16/05/2021</td>\n",
              "      <td>Metropol AVM</td>\n",
              "    </tr>\n",
              "    <tr>\n",
              "      <th>4</th>\n",
              "      <td>I337046</td>\n",
              "      <td>C189076</td>\n",
              "      <td>Female</td>\n",
              "      <td>53</td>\n",
              "      <td>Books</td>\n",
              "      <td>4.0</td>\n",
              "      <td>60.60</td>\n",
              "      <td>Cash</td>\n",
              "      <td>24/10/2021</td>\n",
              "      <td>Kanyon</td>\n",
              "    </tr>\n",
              "  </tbody>\n",
              "</table>\n",
              "</div>\n",
              "    <div class=\"colab-df-buttons\">\n",
              "\n",
              "  <div class=\"colab-df-container\">\n",
              "    <button class=\"colab-df-convert\" onclick=\"convertToInteractive('df-0219f102-a295-46e3-8939-d2ab3f77dc36')\"\n",
              "            title=\"Convert this dataframe to an interactive table.\"\n",
              "            style=\"display:none;\">\n",
              "\n",
              "  <svg xmlns=\"http://www.w3.org/2000/svg\" height=\"24px\" viewBox=\"0 -960 960 960\">\n",
              "    <path d=\"M120-120v-720h720v720H120Zm60-500h600v-160H180v160Zm220 220h160v-160H400v160Zm0 220h160v-160H400v160ZM180-400h160v-160H180v160Zm440 0h160v-160H620v160ZM180-180h160v-160H180v160Zm440 0h160v-160H620v160Z\"/>\n",
              "  </svg>\n",
              "    </button>\n",
              "\n",
              "  <style>\n",
              "    .colab-df-container {\n",
              "      display:flex;\n",
              "      gap: 12px;\n",
              "    }\n",
              "\n",
              "    .colab-df-convert {\n",
              "      background-color: #E8F0FE;\n",
              "      border: none;\n",
              "      border-radius: 50%;\n",
              "      cursor: pointer;\n",
              "      display: none;\n",
              "      fill: #1967D2;\n",
              "      height: 32px;\n",
              "      padding: 0 0 0 0;\n",
              "      width: 32px;\n",
              "    }\n",
              "\n",
              "    .colab-df-convert:hover {\n",
              "      background-color: #E2EBFA;\n",
              "      box-shadow: 0px 1px 2px rgba(60, 64, 67, 0.3), 0px 1px 3px 1px rgba(60, 64, 67, 0.15);\n",
              "      fill: #174EA6;\n",
              "    }\n",
              "\n",
              "    .colab-df-buttons div {\n",
              "      margin-bottom: 4px;\n",
              "    }\n",
              "\n",
              "    [theme=dark] .colab-df-convert {\n",
              "      background-color: #3B4455;\n",
              "      fill: #D2E3FC;\n",
              "    }\n",
              "\n",
              "    [theme=dark] .colab-df-convert:hover {\n",
              "      background-color: #434B5C;\n",
              "      box-shadow: 0px 1px 3px 1px rgba(0, 0, 0, 0.15);\n",
              "      filter: drop-shadow(0px 1px 2px rgba(0, 0, 0, 0.3));\n",
              "      fill: #FFFFFF;\n",
              "    }\n",
              "  </style>\n",
              "\n",
              "    <script>\n",
              "      const buttonEl =\n",
              "        document.querySelector('#df-0219f102-a295-46e3-8939-d2ab3f77dc36 button.colab-df-convert');\n",
              "      buttonEl.style.display =\n",
              "        google.colab.kernel.accessAllowed ? 'block' : 'none';\n",
              "\n",
              "      async function convertToInteractive(key) {\n",
              "        const element = document.querySelector('#df-0219f102-a295-46e3-8939-d2ab3f77dc36');\n",
              "        const dataTable =\n",
              "          await google.colab.kernel.invokeFunction('convertToInteractive',\n",
              "                                                    [key], {});\n",
              "        if (!dataTable) return;\n",
              "\n",
              "        const docLinkHtml = 'Like what you see? Visit the ' +\n",
              "          '<a target=\"_blank\" href=https://colab.research.google.com/notebooks/data_table.ipynb>data table notebook</a>'\n",
              "          + ' to learn more about interactive tables.';\n",
              "        element.innerHTML = '';\n",
              "        dataTable['output_type'] = 'display_data';\n",
              "        await google.colab.output.renderOutput(dataTable, element);\n",
              "        const docLink = document.createElement('div');\n",
              "        docLink.innerHTML = docLinkHtml;\n",
              "        element.appendChild(docLink);\n",
              "      }\n",
              "    </script>\n",
              "  </div>\n",
              "\n",
              "\n",
              "<div id=\"df-edb4ad9d-21df-4370-bb3b-8f9a89a7f809\">\n",
              "  <button class=\"colab-df-quickchart\" onclick=\"quickchart('df-edb4ad9d-21df-4370-bb3b-8f9a89a7f809')\"\n",
              "            title=\"Suggest charts.\"\n",
              "            style=\"display:none;\">\n",
              "\n",
              "<svg xmlns=\"http://www.w3.org/2000/svg\" height=\"24px\"viewBox=\"0 0 24 24\"\n",
              "     width=\"24px\">\n",
              "    <g>\n",
              "        <path d=\"M19 3H5c-1.1 0-2 .9-2 2v14c0 1.1.9 2 2 2h14c1.1 0 2-.9 2-2V5c0-1.1-.9-2-2-2zM9 17H7v-7h2v7zm4 0h-2V7h2v10zm4 0h-2v-4h2v4z\"/>\n",
              "    </g>\n",
              "</svg>\n",
              "  </button>\n",
              "\n",
              "<style>\n",
              "  .colab-df-quickchart {\n",
              "    background-color: #E8F0FE;\n",
              "    border: none;\n",
              "    border-radius: 50%;\n",
              "    cursor: pointer;\n",
              "    display: none;\n",
              "    fill: #1967D2;\n",
              "    height: 32px;\n",
              "    padding: 0 0 0 0;\n",
              "    width: 32px;\n",
              "  }\n",
              "\n",
              "  .colab-df-quickchart:hover {\n",
              "    background-color: #E2EBFA;\n",
              "    box-shadow: 0px 1px 2px rgba(60, 64, 67, 0.3), 0px 1px 3px 1px rgba(60, 64, 67, 0.15);\n",
              "    fill: #174EA6;\n",
              "  }\n",
              "\n",
              "  [theme=dark] .colab-df-quickchart {\n",
              "    background-color: #3B4455;\n",
              "    fill: #D2E3FC;\n",
              "  }\n",
              "\n",
              "  [theme=dark] .colab-df-quickchart:hover {\n",
              "    background-color: #434B5C;\n",
              "    box-shadow: 0px 1px 3px 1px rgba(0, 0, 0, 0.15);\n",
              "    filter: drop-shadow(0px 1px 2px rgba(0, 0, 0, 0.3));\n",
              "    fill: #FFFFFF;\n",
              "  }\n",
              "</style>\n",
              "\n",
              "  <script>\n",
              "    async function quickchart(key) {\n",
              "      const charts = await google.colab.kernel.invokeFunction(\n",
              "          'suggestCharts', [key], {});\n",
              "    }\n",
              "    (() => {\n",
              "      let quickchartButtonEl =\n",
              "        document.querySelector('#df-edb4ad9d-21df-4370-bb3b-8f9a89a7f809 button');\n",
              "      quickchartButtonEl.style.display =\n",
              "        google.colab.kernel.accessAllowed ? 'block' : 'none';\n",
              "    })();\n",
              "  </script>\n",
              "</div>\n",
              "    </div>\n",
              "  </div>\n"
            ]
          },
          "metadata": {},
          "execution_count": 3
        }
      ]
    },
    {
      "cell_type": "code",
      "source": [
        "df.isnull().sum()\n"
      ],
      "metadata": {
        "colab": {
          "base_uri": "https://localhost:8080/"
        },
        "id": "JPvTZHacjvzG",
        "outputId": "ca77e01a-8af1-4c74-8df8-904f40ff96da"
      },
      "execution_count": null,
      "outputs": [
        {
          "output_type": "execute_result",
          "data": {
            "text/plain": [
              "invoice_no        0\n",
              "customer_id       0\n",
              "gender            0\n",
              "age               0\n",
              "category          1\n",
              "quantity          1\n",
              "price             1\n",
              "payment_method    1\n",
              "invoice_date      1\n",
              "shopping_mall     1\n",
              "dtype: int64"
            ]
          },
          "metadata": {},
          "execution_count": 4
        }
      ]
    },
    {
      "cell_type": "code",
      "source": [
        "df['quantity'].fillna(0, inplace=True)"
      ],
      "metadata": {
        "id": "TD4QLAB_jw5n"
      },
      "execution_count": null,
      "outputs": []
    },
    {
      "cell_type": "code",
      "source": [
        "df['price'].fillna(0, inplace=True)\n",
        "\n"
      ],
      "metadata": {
        "id": "9lSSnIkmj5aP"
      },
      "execution_count": null,
      "outputs": []
    },
    {
      "cell_type": "code",
      "source": [
        "df['payment_method'].fillna(0, inplace=True)"
      ],
      "metadata": {
        "id": "ePQbobQhj6E-"
      },
      "execution_count": null,
      "outputs": []
    },
    {
      "cell_type": "code",
      "source": [
        "df['invoice_date'].fillna(0, inplace=True)"
      ],
      "metadata": {
        "id": "Ugj7YaPqmV3i"
      },
      "execution_count": null,
      "outputs": []
    },
    {
      "cell_type": "code",
      "source": [
        "df['gender'].fillna(0,inplace=True)\n",
        "df['age'].fillna(0,inplace=True)\n",
        "df['category'].fillna(0,inplace=True)\n"
      ],
      "metadata": {
        "id": "Z1syWpsdmX6e"
      },
      "execution_count": null,
      "outputs": []
    },
    {
      "cell_type": "code",
      "source": [
        "df.isnull().sum()"
      ],
      "metadata": {
        "colab": {
          "base_uri": "https://localhost:8080/"
        },
        "id": "bi2qLTk-mZrA",
        "outputId": "ed692506-0544-40ff-d7cc-39e3d6ec49b7"
      },
      "execution_count": null,
      "outputs": [
        {
          "output_type": "execute_result",
          "data": {
            "text/plain": [
              "invoice_no        0\n",
              "customer_id       0\n",
              "gender            0\n",
              "age               0\n",
              "category          0\n",
              "quantity          0\n",
              "price             0\n",
              "payment_method    0\n",
              "invoice_date      0\n",
              "shopping_mall     1\n",
              "dtype: int64"
            ]
          },
          "metadata": {},
          "execution_count": 10
        }
      ]
    },
    {
      "cell_type": "code",
      "source": [
        "age_bins=[0,18,25,35,45,float('inf')]\n",
        "age_labels=['<18','18-25','26-35','36-45','46+']\n",
        "df['AgeGroup']=pd.cut(df['age'],bins=age_bins,labels=age_labels,right=False)\n",
        "print(df[['age','AgeGroup']])"
      ],
      "metadata": {
        "colab": {
          "base_uri": "https://localhost:8080/"
        },
        "id": "-z2WU7hnmcyq",
        "outputId": "07ce8f9a-ec6c-4b85-d1ae-2df4ba01fddc"
      },
      "execution_count": null,
      "outputs": [
        {
          "output_type": "stream",
          "name": "stdout",
          "text": [
            "       age AgeGroup\n",
            "0       28    26-35\n",
            "1       21    18-25\n",
            "2       20    18-25\n",
            "3       66      46+\n",
            "4       53      46+\n",
            "...    ...      ...\n",
            "55285   31    26-35\n",
            "55286   45      46+\n",
            "55287   26    26-35\n",
            "55288   50      46+\n",
            "55289    3      <18\n",
            "\n",
            "[55290 rows x 2 columns]\n"
          ]
        }
      ]
    },
    {
      "cell_type": "code",
      "source": [
        "age_group_counts = df['AgeGroup'].value_counts()\n",
        "# Create a bar plot using Matplotlib\n",
        "plt.bar(age_group_counts.index, age_group_counts.values)\n",
        "plt.xlabel(\"Age Groups\")\n",
        "plt.ylabel(\"Counts\")\n",
        "plt.title(\"Distribution of Age Groups\")\n",
        "plt.xticks(rotation=45)\n",
        "# Show the plot\n",
        "plt.tight_layout()\n",
        "plt.show()"
      ],
      "metadata": {
        "colab": {
          "base_uri": "https://localhost:8080/",
          "height": 487
        },
        "id": "CyD8UdV9mjFf",
        "outputId": "58dbb35a-fd8b-424a-a77b-c67775530ded"
      },
      "execution_count": null,
      "outputs": [
        {
          "output_type": "display_data",
          "data": {
            "text/plain": [
              "<Figure size 640x480 with 1 Axes>"
            ],
            "image/png": "[encoded data removed]"
          },
          "metadata": {}
        }
      ]
    },
    {
      "cell_type": "code",
      "source": [
        "# Perform one-hot encoding\n",
        "df_encoded = pd.get_dummies(df, columns=[\"gender\", \"category\"])\n",
        "\n",
        "print(df_encoded)\n"
      ],
      "metadata": {
        "colab": {
          "base_uri": "https://localhost:8080/"
        },
        "id": "ibxCqSGZmqvu",
        "outputId": "782b7847-f8fa-4aa8-c93a-ff3dcd38aeef"
      },
      "execution_count": null,
      "outputs": [
        {
          "output_type": "stream",
          "name": "stdout",
          "text": [
            "      invoice_no customer_id  age  quantity    price payment_method  \\\n",
            "0        I138884     C241288   28       5.0  1500.40    Credit Card   \n",
            "1        I317333     C111565   21       3.0  1800.51     Debit Card   \n",
            "2        I127801     C266599   20       1.0   300.08           Cash   \n",
            "3        I173702     C988172   66       5.0  3000.85    Credit Card   \n",
            "4        I337046     C189076   53       4.0    60.60           Cash   \n",
            "...          ...         ...  ...       ...      ...            ...   \n",
            "55285    I296084     C185930   31       3.0   900.24     Debit Card   \n",
            "55286    I181399     C580659   45       1.0    40.66           Cash   \n",
            "55287    I322238     C289135   26       2.0    23.46           Cash   \n",
            "55288    I731999     C255353   50       3.0   121.98    Credit Card   \n",
            "55289    I152128     C232697    3       0.0     0.00              0   \n",
            "\n",
            "      invoice_date      shopping_mall AgeGroup  gender_Female  gender_Male  \\\n",
            "0         5/8/2022             Kanyon    26-35              1            0   \n",
            "1       12/12/2021     Forum Istanbul    18-25              0            1   \n",
            "2        9/11/2021          Metrocity    18-25              0            1   \n",
            "3       16/05/2021       Metropol AVM      46+              1            0   \n",
            "4       24/10/2021             Kanyon      46+              1            0   \n",
            "...            ...                ...      ...            ...          ...   \n",
            "55285   28/05/2021  Emaar Square Mall    26-35              1            0   \n",
            "55286   19/08/2022       Istinye Park      46+              1            0   \n",
            "55287   25/05/2021   Mall of Istanbul    26-35              1            0   \n",
            "55288     1/9/2022   Mall of Istanbul      46+              0            1   \n",
            "55289            0                NaN      <18              1            0   \n",
            "\n",
            "       category_0  category_Books  category_Clothing  category_Cosmetics  \\\n",
            "0               0               0                  1                   0   \n",
            "1               0               0                  0                   0   \n",
            "2               0               0                  1                   0   \n",
            "3               0               0                  0                   0   \n",
            "4               0               1                  0                   0   \n",
            "...           ...             ...                ...                 ...   \n",
            "55285           0               0                  1                   0   \n",
            "55286           0               0                  0                   1   \n",
            "55287           0               0                  0                   0   \n",
            "55288           0               0                  0                   1   \n",
            "55289           1               0                  0                   0   \n",
            "\n",
            "       category_Food & Beverage  category_Shoes  category_Souvenir  \\\n",
            "0                             0               0                  0   \n",
            "1                             0               1                  0   \n",
            "2                             0               0                  0   \n",
            "3                             0               1                  0   \n",
            "4                             0               0                  0   \n",
            "...                         ...             ...                ...   \n",
            "55285                         0               0                  0   \n",
            "55286                         0               0                  0   \n",
            "55287                         0               0                  1   \n",
            "55288                         0               0                  0   \n",
            "55289                         0               0                  0   \n",
            "\n",
            "       category_Technology  category_Toys  \n",
            "0                        0              0  \n",
            "1                        0              0  \n",
            "2                        0              0  \n",
            "3                        0              0  \n",
            "4                        0              0  \n",
            "...                    ...            ...  \n",
            "55285                    0              0  \n",
            "55286                    0              0  \n",
            "55287                    0              0  \n",
            "55288                    0              0  \n",
            "55289                    0              0  \n",
            "\n",
            "[55290 rows x 20 columns]\n"
          ]
        }
      ]
    },
    {
      "cell_type": "code",
      "source": [
        "age = df['age']\n",
        "category_columns = df[['quantity']]\n",
        "\n",
        "# Calculate the covariance matrix\n",
        "covariance_matrix = np.cov(age, category_columns, rowvar=False)\n",
        "\n",
        "print(\"Covariance Matrix:\")\n",
        "print(covariance_matrix)"
      ],
      "metadata": {
        "colab": {
          "base_uri": "https://localhost:8080/"
        },
        "id": "-i30u3S5mtks",
        "outputId": "fe7cedc1-8bed-4d51-9ce9-4f129551d2d1"
      },
      "execution_count": null,
      "outputs": [
        {
          "output_type": "stream",
          "name": "stdout",
          "text": [
            "Covariance Matrix:\n",
            "[[2.25285001e+02 7.89208182e-02]\n",
            " [7.89208182e-02 2.00150734e+00]]\n"
          ]
        }
      ]
    },
    {
      "cell_type": "code",
      "source": [
        "import numpy as np\n",
        "import seaborn as sns\n",
        "import matplotlib.pyplot as plt\n",
        "\n",
        "feature_names = ['Age', 'Category']  # Replace with actual feature names\n",
        "\n",
        "# Create a heatmap using Seaborn\n",
        "plt.figure(figsize=(10, 8))\n",
        "heatmap = sns.heatmap(covariance_matrix, annot=True, fmt=\".2f\", cmap=\"coolwarm\", square=True)\n",
        "\n",
        "# Set x and y axis labels\n",
        "heatmap.set_xticklabels(feature_names, rotation=45, ha='right')\n",
        "heatmap.set_yticklabels(feature_names, rotation=0)\n",
        "\n",
        "plt.title(\"Covariance Matrix Heatmap\")\n",
        "plt.show()\n"
      ],
      "metadata": {
        "colab": {
          "base_uri": "https://localhost:8080/",
          "height": 740
        },
        "id": "3G8vxyTRmzcN",
        "outputId": "f4ed28d2-343b-466f-c214-753aef494934"
      },
      "execution_count": null,
      "outputs": [
        {
          "output_type": "display_data",
          "data": {
            "text/plain": [
              "<Figure size 1000x800 with 2 Axes>"
            ],
            "image/png": "[encoded data removed]"
          },
          "metadata": {}
        }
      ]
    },
    {
      "cell_type": "code",
      "source": [
        "from scipy.stats import chi2_contingency\n",
        "\n",
        "# Create a contingency table\n",
        "contingency_table = pd.crosstab(df['gender'], df['category'])\n",
        "\n",
        "# Perform the Chi-Square test\n",
        "chi2_stat, p_val, dof, expected = chi2_contingency(contingency_table)\n",
        "\n",
        "print(\"Chi-Square Statistic:\", chi2_stat)\n",
        "print(\"P-value:\", p_val)\n",
        "print(\"Expected-value:\",expected)"
      ],
      "metadata": {
        "colab": {
          "base_uri": "https://localhost:8080/"
        },
        "id": "9uX7L-pxm2B1",
        "outputId": "7eeaa030-b091-4b4b-a683-54005c3429d4"
      },
      "execution_count": null,
      "outputs": [
        {
          "output_type": "stream",
          "name": "stdout",
          "text": [
            "Chi-Square Statistic: 10.601303011621098\n",
            "P-value: 0.22532888448749724\n",
            "Expected-value: [[5.98336046e-01 1.65320250e+03 1.14336035e+04 5.03200615e+03\n",
            "  4.93806739e+03 3.34469850e+03 1.66516922e+03 1.66157920e+03\n",
            "  3.35307520e+03]\n",
            " [4.01663954e-01 1.10979750e+03 7.67539649e+03 3.37799385e+03\n",
            "  3.31493261e+03 2.24530150e+03 1.11783078e+03 1.11542080e+03\n",
            "  2.25092480e+03]]\n"
          ]
        }
      ]
    },
    {
      "cell_type": "code",
      "source": [
        "# Plot the data\n",
        "contingency_table.plot(kind=\"bar\", stacked=True)\n",
        "plt.title(\"Category Distribution by Gender\")\n",
        "plt.xlabel(\"Gender\")\n",
        "plt.ylabel(\"Count\")\n",
        "plt.xticks(rotation=0)\n",
        "plt.legend(title=\"Category\")\n",
        "plt.show()\n",
        "\n",
        "print(\"Chi-Square Statistic:\",chi2_stat)\n",
        "print(\"p-value:\", p_val)"
      ],
      "metadata": {
        "colab": {
          "base_uri": "https://localhost:8080/",
          "height": 507
        },
        "id": "rZsFRdbzm5yJ",
        "outputId": "72351ed8-c144-44ea-9b16-ed0b050de54f"
      },
      "execution_count": null,
      "outputs": [
        {
          "output_type": "display_data",
          "data": {
            "text/plain": [
              "<Figure size 640x480 with 1 Axes>"
            ],
            "image/png": "[encoded data removed]"
          },
          "metadata": {}
        },
        {
          "output_type": "stream",
          "name": "stdout",
          "text": [
            "Chi-Square Statistic: 10.601303011621098\n",
            "p-value: 0.22532888448749724\n"
          ]
        }
      ]
    },
    {
      "cell_type": "code",
      "source": [
        "from scipy.stats import ttest_ind\n",
        "male_data = df[df[\"gender\"] == \"Male\"][\"price\"]\n",
        "female_data = df[df[\"gender\"] == \"Female\"][\"price\"]\n",
        "\n",
        "# Perform independent t-test\n",
        "t_statistic, p_value = ttest_ind(male_data, female_data)\n",
        "\n",
        "print(\"T-Statistic:\", t_statistic)\n",
        "print(\"p-value:\", p_value)\n",
        "\n",
        "if p_value < 0.05:\n",
        "    print(\"Reject null hypothesis: The means are significantly different.\")\n",
        "else:\n",
        "    print(\"Fail to reject null hypothesis: The means are not significantly different.\")"
      ],
      "metadata": {
        "colab": {
          "base_uri": "https://localhost:8080/"
        },
        "id": "1z47wwemoKQv",
        "outputId": "72a13cbd-ecae-4fc1-a3e4-e7606259e7a4"
      },
      "execution_count": null,
      "outputs": [
        {
          "output_type": "stream",
          "name": "stdout",
          "text": [
            "T-Statistic: 0.9779072721554547\n",
            "p-value: 0.32812446690263686\n",
            "Fail to reject null hypothesis: The means are not significantly different.\n"
          ]
        }
      ]
    },
    {
      "cell_type": "code",
      "source": [
        "# Create a box plot\n",
        "plt.boxplot([male_data, female_data], labels=[\"Male\", \"Female\"])\n",
        "plt.title(\"Purchase Amount by Gender\")\n",
        "plt.ylabel(\"Purchase Amount\")\n",
        "plt.show()\n",
        "\n",
        "print(\"T-Statistic:\", t_statistic)\n",
        "print(\"p-value:\", p_value)\n",
        "\n",
        "if p_value < 0.05:\n",
        "    print(\"Reject null hypothesis: The means are significantly different.\")\n",
        "else:\n",
        "    print(\"Fail to reject null hypothesis: The means are not significantly different.\")"
      ],
      "metadata": {
        "colab": {
          "base_uri": "https://localhost:8080/",
          "height": 504
        },
        "id": "kEmHuefF0T86",
        "outputId": "c219de16-c9ce-4a28-ffd9-69dec85e728a"
      },
      "execution_count": null,
      "outputs": [
        {
          "output_type": "display_data",
          "data": {
            "text/plain": [
              "<Figure size 640x480 with 1 Axes>"
            ],
            "image/png": "[encoded data removed]"
          },
          "metadata": {}
        },
        {
          "output_type": "stream",
          "name": "stdout",
          "text": [
            "T-Statistic: 0.9779072721554547\n",
            "p-value: 0.32812446690263686\n",
            "Fail to reject null hypothesis: The means are not significantly different.\n"
          ]
        }
      ]
    },
    {
      "cell_type": "code",
      "source": [],
      "metadata": {
        "id": "bxOv1aHb0nvs"
      },
      "execution_count": null,
      "outputs": []
    }
  ]
}